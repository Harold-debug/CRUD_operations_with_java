{
  "nbformat": 4,
  "nbformat_minor": 0,
  "metadata": {
    "colab": {
      "provenance": []
    },
    "kernelspec": {
      "name": "python3",
      "display_name": "Python 3"
    },
    "language_info": {
      "name": "python"
    },
    "accelerator": "GPU"
  },
  "cells": [
    {
      "cell_type": "markdown",
      "metadata": {
        "id": "plt1FdUufAbX"
      },
      "source": [
        "##Multi-Layer Perceptron\n",
        "In this project, you will practice what we have been working with all first course. You will implement a multi-layer perceptron for a classification task. This model (MLP) will learn to classify  the content of an image (object in an image), our images are taken from the **MNIST dataset**. The MNIST database has images of handwritten digits, **has a training set of 60,000 examples, and a test set of 10,000 examples**. It is a subset of a larger set available from NIST. The digits have been size-normalized and centered in a fixed-size image.\n",
        "\n",
        "To build MPL neural network, you will use MLPClassifier in sklearn library."
      ]
    },
    {
      "cell_type": "markdown",
      "metadata": {
        "id": "a69JCvp9hwyH"
      },
      "source": [
        "## Steps\n",
        "\n",
        "\n",
        "### 1) First, Imports\n",
        "let’s import all the packages  will be needing:"
      ]
    },
    {
      "cell_type": "code",
      "metadata": {
        "id": "04tZH3ZH-6Qz"
      },
      "source": [
        "from scipy.stats import mode\n",
        "import numpy as np\n",
        "from time import time\n",
        "import pandas as pd\n",
        "import os\n",
        "import matplotlib.pyplot as matplot\n",
        "import matplotlib\n",
        "%matplotlib inline\n",
        "\n",
        "import random\n",
        "matplot.rcdefaults()\n",
        "from time import time\n",
        "from IPython.display import display, HTML\n",
        "from itertools import chain\n",
        "from sklearn.metrics import confusion_matrix\n",
        "\n",
        "import seaborn as sb\n",
        "from sklearn.model_selection import ParameterGrid\n",
        "from sklearn.neural_network import MLPClassifier\n",
        "import warnings\n",
        "warnings.filterwarnings('ignore')\n"
      ],
      "execution_count": null,
      "outputs": []
    },
    {
      "cell_type": "markdown",
      "metadata": {
        "id": "R4B6Bq8viDwS"
      },
      "source": [
        "### 2) Download the Dataset MNIST from keras datasets repos\n",
        "and load the images into splits train and test"
      ]
    },
    {
      "cell_type": "code",
      "metadata": {
        "id": "WXsR7xtm_SsW"
      },
      "source": [
        "from tensorflow.keras.datasets import mnist\n",
        "(X_train, Y_train), (X_test, Y_test) = mnist.load_data()"
      ],
      "execution_count": null,
      "outputs": []
    },
    {
      "cell_type": "markdown",
      "metadata": {
        "id": "k0nZVoKYhVKK"
      },
      "source": [
        "**Exercise**\n",
        "Check:\n",
        "- the size each train dataset and test dataset\n",
        "- How much percent represent train and test dataset of original dataset ?\n",
        "- size of image"
      ]
    },
    {
      "cell_type": "code",
      "metadata": {
        "id": "Qd2bkq_JhcdK",
        "colab": {
          "base_uri": "https://localhost:8080/"
        },
        "outputId": "a7337bfd-229b-473a-f8df-e86890d922f8"
      },
      "source": [
        "print(?)\n",
        "print(?)"
      ],
      "execution_count": null,
      "outputs": [
        {
          "output_type": "stream",
          "name": "stdout",
          "text": [
            "(60000, 28, 28)\n",
            "(10000, 28, 28)\n"
          ]
        }
      ]
    },
    {
      "cell_type": "markdown",
      "metadata": {
        "id": "6Pw718N7j30V"
      },
      "source": [
        "Now, Since The model is 1D layers, so the data images must be converted from 2D to 1D, so we need to use reshape function\n",
        "\n",
        "\n",
        "**Exercise**  Convert 2D dataset to 1D\n",
        "\n",
        "**Tips**\n",
        "\n",
        "Number of images rests as it is for x_train, and x_test\n",
        "the new 1D shape of 2D image is the reult of multiplication of width and height\n",
        "\n",
        "so if we know the original dimensions by:\n",
        "nsamples, nx, ny = X_train.shape\n",
        "\n",
        "Use X_train.reshape(? ) to find the new dimensions"
      ]
    },
    {
      "cell_type": "code",
      "metadata": {
        "id": "QZVJhfyTBvNq"
      },
      "source": [
        "\n",
        "nsamples, nx, ny = X_train.shape\n",
        "X_train_ = X_train.reshape(nsamples,nx*ny)\n",
        "\n",
        "nsamples, nx, ny = X_test.shape\n",
        "X_test_ = X_test.reshape(nsamples,nx*ny)\n",
        "\n"
      ],
      "execution_count": null,
      "outputs": []
    },
    {
      "cell_type": "code",
      "metadata": {
        "colab": {
          "base_uri": "https://localhost:8080/"
        },
        "id": "fTF-OE-Bk_ac",
        "outputId": "a83d63a7-ca19-44d2-b0fe-b30cb91acad1"
      },
      "source": [
        "#verify the shape after reshaping to 1D\n",
        "\n",
        "X_train_.?"
      ],
      "execution_count": null,
      "outputs": [
        {
          "output_type": "execute_result",
          "data": {
            "text/plain": [
              "(60000, 784)"
            ]
          },
          "metadata": {},
          "execution_count": 4
        }
      ]
    },
    {
      "cell_type": "markdown",
      "metadata": {
        "id": "JcwTL1gflmkv"
      },
      "source": [
        "**Exercise**\n",
        "Using the *matplotlib.pyplot* plot some images from x_train, and display their corresponding label from y_train"
      ]
    },
    {
      "cell_type": "code",
      "metadata": {
        "colab": {
          "base_uri": "https://localhost:8080/",
          "height": 452
        },
        "id": "oxFsQUjpMAsk",
        "outputId": "ed403e23-94a9-4216-fe18-302ce645bdd0"
      },
      "source": [
        "import matplotlib.pyplot as plt\n",
        "#plt.gray()\n",
        "for i in range(5):\n",
        "  fig,ax = plt.subplots(figsize=(1,1))\n",
        "  ax.matshow(?)\n",
        "  plt.title((?))\n",
        "  #ax.axis('off')\n",
        "plt.show()"
      ],
      "execution_count": null,
      "outputs": [
        {
          "output_type": "display_data",
          "data": {
            "text/plain": [
              "<Figure size 72x72 with 1 Axes>"
            ],
            "image/png": "[encoded data removed]"
          },
          "metadata": {
            "needs_background": "light"
          }
        },
        {
          "output_type": "display_data",
          "data": {
            "text/plain": [
              "<Figure size 72x72 with 1 Axes>"
            ],
            "image/png": "[encoded data removed]"
          },
          "metadata": {
            "needs_background": "light"
          }
        },
        {
          "output_type": "display_data",
          "data": {
            "text/plain": [
              "<Figure size 72x72 with 1 Axes>"
            ],
            "image/png": "[encoded data removed]"
          },
          "metadata": {
            "needs_background": "light"
          }
        },
        {
          "output_type": "display_data",
          "data": {
            "text/plain": [
              "<Figure size 72x72 with 1 Axes>"
            ],
            "image/png": "[encoded data removed]"
          },
          "metadata": {
            "needs_background": "light"
          }
        },
        {
          "output_type": "display_data",
          "data": {
            "text/plain": [
              "<Figure size 72x72 with 1 Axes>"
            ],
            "image/png": "[encoded data removed]"
          },
          "metadata": {
            "needs_background": "light"
          }
        }
      ]
    },
    {
      "cell_type": "markdown",
      "metadata": {
        "id": "GPlbIad_mo1w"
      },
      "source": [
        "## Training MLP\n",
        "\n",
        "Using built-in [MLPClassifier](https://scikit-learn.org/stable/modules/generated/sklearn.neural_network.MLPClassifier.html) function, you will train your model. This function has few parameters to be tuned to affect the performance of training. Right now, we will set only parameter of ieteration, and leaving the rest to get the default values."
      ]
    },
    {
      "cell_type": "code",
      "metadata": {
        "colab": {
          "base_uri": "https://localhost:8080/"
        },
        "id": "1c3xu1tmEDwS",
        "outputId": "67b204eb-5a2a-4157-ae28-9c42628386c6"
      },
      "source": [
        "mlp = MLPClassifier(verbose=True, max_iter=50)\n",
        "st = time()\n",
        "mlp.fit(X_train_, Y_train)\n",
        "end = time() - st\n",
        "\n",
        "print('elapsed time in seconds', end)\n"
      ],
      "execution_count": null,
      "outputs": [
        {
          "output_type": "stream",
          "name": "stdout",
          "text": [
            "Iteration 1, loss = 3.36732556\n",
            "Iteration 2, loss = 0.99501072\n",
            "Iteration 3, loss = 0.54050259\n",
            "Iteration 4, loss = 0.35540283\n",
            "Iteration 5, loss = 0.26903674\n",
            "Iteration 6, loss = 0.21923121\n",
            "Iteration 7, loss = 0.17504945\n",
            "Iteration 8, loss = 0.15409059\n",
            "Iteration 9, loss = 0.14200852\n",
            "Iteration 10, loss = 0.12449713\n",
            "Iteration 11, loss = 0.12317130\n",
            "Iteration 12, loss = 0.11277604\n",
            "Iteration 13, loss = 0.11034165\n",
            "Iteration 14, loss = 0.11096274\n",
            "Iteration 15, loss = 0.10137307\n",
            "Iteration 16, loss = 0.09837896\n",
            "Iteration 17, loss = 0.09695427\n",
            "Iteration 18, loss = 0.09314763\n",
            "Iteration 19, loss = 0.08724854\n",
            "Iteration 20, loss = 0.08093622\n",
            "Iteration 21, loss = 0.08667539\n",
            "Iteration 22, loss = 0.08009473\n",
            "Iteration 23, loss = 0.07561246\n",
            "Iteration 24, loss = 0.07042901\n",
            "Iteration 25, loss = 0.08505771\n",
            "Iteration 26, loss = 0.07595610\n",
            "Iteration 27, loss = 0.06517076\n",
            "Iteration 28, loss = 0.07026450\n",
            "Iteration 29, loss = 0.06377755\n",
            "Iteration 30, loss = 0.06902676\n",
            "Iteration 31, loss = 0.05916814\n",
            "Iteration 32, loss = 0.06553618\n",
            "Iteration 33, loss = 0.06650906\n",
            "Iteration 34, loss = 0.05997821\n",
            "Iteration 35, loss = 0.05023297\n",
            "Iteration 36, loss = 0.04955539\n",
            "Iteration 37, loss = 0.05282151\n",
            "Iteration 38, loss = 0.05963863\n",
            "Iteration 39, loss = 0.05132097\n",
            "Iteration 40, loss = 0.05366862\n",
            "Iteration 41, loss = 0.04616175\n",
            "Iteration 42, loss = 0.05862923\n",
            "Iteration 43, loss = 0.05086169\n",
            "Iteration 44, loss = 0.05474839\n",
            "Iteration 45, loss = 0.04498137\n",
            "Iteration 46, loss = 0.04179634\n",
            "Iteration 47, loss = 0.05925500\n",
            "Iteration 48, loss = 0.04863138\n",
            "Iteration 49, loss = 0.04485460\n",
            "Iteration 50, loss = 0.04899276\n",
            "elapsed time in seconds 78.6793565750122\n"
          ]
        }
      ]
    },
    {
      "cell_type": "markdown",
      "metadata": {
        "id": "2utNm9EsnoKG"
      },
      "source": [
        "## Evaluation\n",
        "Now, you need to evaluate the accuracy of your model and validate it on test data\n",
        "\n",
        "\n",
        "Use the function *[accuracy_score](https://scikit-learn.org/stable/modules/generated/sklearn.metrics.accuracy_score.html#sklearn.metrics.accuracy_score)* from *sklearn.metrics*:\n",
        "- to caluculate the accuracy on train dataset\n",
        "- to caluculate the accuracy on test dataset"
      ]
    },
    {
      "cell_type": "code",
      "metadata": {
        "colab": {
          "base_uri": "https://localhost:8080/"
        },
        "id": "Bl-9GO8AI3yP",
        "outputId": "484f9dfb-ae06-4d43-877e-dc8889b990f8"
      },
      "source": [
        "from sklearn.metrics import accuracy_score\n",
        "\n",
        "acc_tr = accuracy_score(?, mlp.predict(?)) # which data ?\n",
        "acc_ts = accuracy_score(?, mlp.predict(?)) # which data\n",
        "\n",
        "print(\"training accuracy:\", acc_tr)\n",
        "print(\"Test accuracy:\",acc_ts)\n",
        "\n"
      ],
      "execution_count": null,
      "outputs": [
        {
          "output_type": "stream",
          "name": "stdout",
          "text": [
            "training accuracy: 0.9856666666666667\n",
            "Test accuracy: 0.9625\n"
          ]
        }
      ]
    },
    {
      "cell_type": "markdown",
      "metadata": {
        "id": "80GhLNEr1zre"
      },
      "source": [
        "There are many other metrics to evaluate the performance of a model, please check [classification_report](https://scikit-learn.org/stable/modules/generated/sklearn.metrics.classification_report.html#sklearn-metrics-classification-report)\n",
        "\n",
        "**Exercise**\n",
        "\n",
        "Could you read and learn more about those different meatrics, and what are the differences between them ?"
      ]
    },
    {
      "cell_type": "code",
      "metadata": {
        "colab": {
          "base_uri": "https://localhost:8080/"
        },
        "id": "j5hCN82C1E4i",
        "outputId": "bfda7cf1-0c5c-4db9-aaaa-774ceac2e1e6"
      },
      "source": [
        "from sklearn.metrics import classification_report\n",
        "print(classification_report(?, mlp.predict(?))) # with wich data ?\n"
      ],
      "execution_count": null,
      "outputs": [
        {
          "output_type": "stream",
          "name": "stdout",
          "text": [
            "              precision    recall  f1-score   support\n",
            "\n",
            "           0       0.99      0.97      0.98       980\n",
            "           1       0.98      0.99      0.98      1135\n",
            "           2       0.96      0.95      0.96      1032\n",
            "           3       0.95      0.97      0.96      1010\n",
            "           4       0.99      0.92      0.96       982\n",
            "           5       0.97      0.96      0.96       892\n",
            "           6       0.98      0.97      0.97       958\n",
            "           7       0.97      0.96      0.96      1028\n",
            "           8       0.94      0.96      0.95       974\n",
            "           9       0.91      0.98      0.94      1009\n",
            "\n",
            "    accuracy                           0.96     10000\n",
            "   macro avg       0.96      0.96      0.96     10000\n",
            "weighted avg       0.96      0.96      0.96     10000\n",
            "\n"
          ]
        }
      ]
    },
    {
      "cell_type": "markdown",
      "metadata": {
        "id": "Pjuaw4wm19ay"
      },
      "source": [
        "## Plot the LEARNING CURVE\n",
        "\n",
        "As seen during training, the error (loss) has been decreasing, all values of loss are saved in a structure of the model, called loss_curve_, you can access it as\n",
        "mlp.loss_curve_\n",
        "\n",
        "- Could you plot training loss values as a curve ?"
      ]
    },
    {
      "cell_type": "code",
      "metadata": {
        "id": "-3y5N5Vh0y6z",
        "colab": {
          "base_uri": "https://localhost:8080/",
          "height": 472
        },
        "outputId": "beee9310-e50a-4cb9-ea62-f621f6f8d441"
      },
      "source": [
        "import matplotlib.pyplot as plt\n",
        "plt.title(\"Evolution of TRAINING ERROR during training\")\n",
        "plt.xlabel(\"Iterations (epochs)\")\n",
        "plt.ylabel(\"TRAINING ERROR\")\n",
        "plt.plot(mlp.loss_curve_)\n",
        "plt.show()\n"
      ],
      "execution_count": null,
      "outputs": [
        {
          "output_type": "display_data",
          "data": {
            "text/plain": [
              "<Figure size 640x480 with 1 Axes>"
            ],
            "image/png": "[encoded data removed]"
          },
          "metadata": {}
        }
      ]
    },
    {
      "cell_type": "markdown",
      "metadata": {
        "id": "x2O3OOuxXFr0"
      },
      "source": [
        "##Benchmark 1\n",
        "\n",
        "\n",
        "To get the best performance of *[MLPClassifier](https://scikit-learn.org/stable/modules/generated/sklearn.neural_network.MLPClassifier.html)*, benchmark the classifier with different combinations of parameters to fall on the best combination of parameter values corresponding the better performance\n",
        "\n",
        "Start with two parameters:\n",
        "1.   variation on alpha param: alpha is a learning rate, that you may consider it as a factor to improve learning, we will take it in details in the next course\n",
        "2.   variation on the iterations number\n",
        "\n",
        "**Tips**\n",
        "consider the following values of each parameter\n",
        "\n",
        "alphas = [0.0001,0.001, 0.1, 10]\n",
        "\n",
        "max_iter = [10,100,200]\n",
        "\n"
      ]
    },
    {
      "cell_type": "code",
      "metadata": {
        "colab": {
          "base_uri": "https://localhost:8080/"
        },
        "id": "uM8YkEOvYkd-",
        "outputId": "7b604d3c-db12-4a9e-e902-c5d6283f87e6"
      },
      "source": [
        "i = 0\n",
        "alphas = [0.0001,0.001, 0.1, 10]\n",
        "max_iter = [15,50,100]\n",
        "df = pd.DataFrame(columns = ['alpha','max_iter','acc_train','acc_test','train_estim'])\n",
        "t = time()\n",
        "for a in alphas:\n",
        "    for mi in max_iter:\n",
        "        st = time()\n",
        "        mlp = MLPClassifier(?,?)\n",
        "        mlp.fit(X_train_,Y_train)\n",
        "        end = time() - st\n",
        "\n",
        "        ### # Train Accuracy\n",
        "        ### # Test Accuracy\n",
        "        acc_tr = #your code\n",
        "        acc_ts = #you code\n",
        "        print(?) # print results as same as results shown below\n",
        "        df.loc[i] = [a,mi,acc_tr,acc_ts,end]\n",
        "        i=i+1\n",
        "endf = time() - t\n",
        "print('total elapsed time= ',endf)"
      ],
      "execution_count": null,
      "outputs": [
        {
          "output_type": "stream",
          "name": "stdout",
          "text": [
            "alpha =  0.0001  max_iter= 15  acc_train= 0.9754333333333334  acc_test=  0.9543  train_estim=  21.671510219573975\n",
            "alpha =  0.0001  max_iter= 50  acc_train= 0.9877  acc_test=  0.9632  train_estim=  84.37871193885803\n",
            "alpha =  0.0001  max_iter= 100  acc_train= 0.99165  acc_test=  0.9659  train_estim=  83.65325236320496\n",
            "alpha =  0.001  max_iter= 15  acc_train= 0.9769666666666666  acc_test=  0.9523  train_estim=  21.062217473983765\n",
            "alpha =  0.001  max_iter= 50  acc_train= 0.9909166666666667  acc_test=  0.9641  train_estim=  73.05371761322021\n",
            "alpha =  0.001  max_iter= 100  acc_train= 0.9925166666666667  acc_test=  0.9637  train_estim=  111.9639642238617\n",
            "alpha =  0.1  max_iter= 15  acc_train= 0.9730833333333333  acc_test=  0.9495  train_estim=  19.60639762878418\n",
            "alpha =  0.1  max_iter= 50  acc_train= 0.9868833333333333  acc_test=  0.9617  train_estim=  72.29016160964966\n",
            "alpha =  0.1  max_iter= 100  acc_train= 0.9873833333333333  acc_test=  0.9629  train_estim=  105.49151587486267\n",
            "alpha =  10  max_iter= 15  acc_train= 0.9740833333333333  acc_test=  0.9617  train_estim=  20.979021787643433\n",
            "alpha =  10  max_iter= 50  acc_train= 0.9634333333333334  acc_test=  0.9595  train_estim=  64.36871862411499\n",
            "alpha =  10  max_iter= 100  acc_train= 0.9684333333333334  acc_test=  0.9606  train_estim=  45.99992227554321\n",
            "total elapsed time=  732.2787337303162\n"
          ]
        }
      ]
    },
    {
      "cell_type": "code",
      "metadata": {
        "colab": {
          "base_uri": "https://localhost:8080/",
          "height": 426
        },
        "id": "z5FEjNn9mRTs",
        "outputId": "8da19169-ed65-4e3d-d362-a66d707a20ba"
      },
      "source": [
        "df # Results\n"
      ],
      "execution_count": null,
      "outputs": [
        {
          "output_type": "execute_result",
          "data": {
            "text/plain": [
              "      alpha  max_iter  acc_train  acc_test  train_estim\n",
              "0    0.0001      15.0   0.975433    0.9543    21.671510\n",
              "1    0.0001      50.0   0.987700    0.9632    84.378712\n",
              "2    0.0001     100.0   0.991650    0.9659    83.653252\n",
              "3    0.0010      15.0   0.976967    0.9523    21.062217\n",
              "4    0.0010      50.0   0.990917    0.9641    73.053718\n",
              "5    0.0010     100.0   0.992517    0.9637   111.963964\n",
              "6    0.1000      15.0   0.973083    0.9495    19.606398\n",
              "7    0.1000      50.0   0.986883    0.9617    72.290162\n",
              "8    0.1000     100.0   0.987383    0.9629   105.491516\n",
              "9   10.0000      15.0   0.974083    0.9617    20.979022\n",
              "10  10.0000      50.0   0.963433    0.9595    64.368719\n",
              "11  10.0000     100.0   0.968433    0.9606    45.999922"
            ],
            "text/html": [
              "\n",
              "  <div id=\"df-6e83c42a-6f51-4ae9-b805-5ded6bf7c096\" class=\"colab-df-container\">\n",
              "    <div>\n",
              "<style scoped>\n",
              "    .dataframe tbody tr th:only-of-type {\n",
              "        vertical-align: middle;\n",
              "    }\n",
              "\n",
              "    .dataframe tbody tr th {\n",
              "        vertical-align: top;\n",
              "    }\n",
              "\n",
              "    .dataframe thead th {\n",
              "        text-align: right;\n",
              "    }\n",
              "</style>\n",
              "<table border=\"1\" class=\"dataframe\">\n",
              "  <thead>\n",
              "    <tr style=\"text-align: right;\">\n",
              "      <th></th>\n",
              "      <th>alpha</th>\n",
              "      <th>max_iter</th>\n",
              "      <th>acc_train</th>\n",
              "      <th>acc_test</th>\n",
              "      <th>train_estim</th>\n",
              "    </tr>\n",
              "  </thead>\n",
              "  <tbody>\n",
              "    <tr>\n",
              "      <th>0</th>\n",
              "      <td>0.0001</td>\n",
              "      <td>15.0</td>\n",
              "      <td>0.975433</td>\n",
              "      <td>0.9543</td>\n",
              "      <td>21.671510</td>\n",
              "    </tr>\n",
              "    <tr>\n",
              "      <th>1</th>\n",
              "      <td>0.0001</td>\n",
              "      <td>50.0</td>\n",
              "      <td>0.987700</td>\n",
              "      <td>0.9632</td>\n",
              "      <td>84.378712</td>\n",
              "    </tr>\n",
              "    <tr>\n",
              "      <th>2</th>\n",
              "      <td>0.0001</td>\n",
              "      <td>100.0</td>\n",
              "      <td>0.991650</td>\n",
              "      <td>0.9659</td>\n",
              "      <td>83.653252</td>\n",
              "    </tr>\n",
              "    <tr>\n",
              "      <th>3</th>\n",
              "      <td>0.0010</td>\n",
              "      <td>15.0</td>\n",
              "      <td>0.976967</td>\n",
              "      <td>0.9523</td>\n",
              "      <td>21.062217</td>\n",
              "    </tr>\n",
              "    <tr>\n",
              "      <th>4</th>\n",
              "      <td>0.0010</td>\n",
              "      <td>50.0</td>\n",
              "      <td>0.990917</td>\n",
              "      <td>0.9641</td>\n",
              "      <td>73.053718</td>\n",
              "    </tr>\n",
              "    <tr>\n",
              "      <th>5</th>\n",
              "      <td>0.0010</td>\n",
              "      <td>100.0</td>\n",
              "      <td>0.992517</td>\n",
              "      <td>0.9637</td>\n",
              "      <td>111.963964</td>\n",
              "    </tr>\n",
              "    <tr>\n",
              "      <th>6</th>\n",
              "      <td>0.1000</td>\n",
              "      <td>15.0</td>\n",
              "      <td>0.973083</td>\n",
              "      <td>0.9495</td>\n",
              "      <td>19.606398</td>\n",
              "    </tr>\n",
              "    <tr>\n",
              "      <th>7</th>\n",
              "      <td>0.1000</td>\n",
              "      <td>50.0</td>\n",
              "      <td>0.986883</td>\n",
              "      <td>0.9617</td>\n",
              "      <td>72.290162</td>\n",
              "    </tr>\n",
              "    <tr>\n",
              "      <th>8</th>\n",
              "      <td>0.1000</td>\n",
              "      <td>100.0</td>\n",
              "      <td>0.987383</td>\n",
              "      <td>0.9629</td>\n",
              "      <td>105.491516</td>\n",
              "    </tr>\n",
              "    <tr>\n",
              "      <th>9</th>\n",
              "      <td>10.0000</td>\n",
              "      <td>15.0</td>\n",
              "      <td>0.974083</td>\n",
              "      <td>0.9617</td>\n",
              "      <td>20.979022</td>\n",
              "    </tr>\n",
              "    <tr>\n",
              "      <th>10</th>\n",
              "      <td>10.0000</td>\n",
              "      <td>50.0</td>\n",
              "      <td>0.963433</td>\n",
              "      <td>0.9595</td>\n",
              "      <td>64.368719</td>\n",
              "    </tr>\n",
              "    <tr>\n",
              "      <th>11</th>\n",
              "      <td>10.0000</td>\n",
              "      <td>100.0</td>\n",
              "      <td>0.968433</td>\n",
              "      <td>0.9606</td>\n",
              "      <td>45.999922</td>\n",
              "    </tr>\n",
              "  </tbody>\n",
              "</table>\n",
              "</div>\n",
              "    <div class=\"colab-df-buttons\">\n",
              "\n",
              "  <div class=\"colab-df-container\">\n",
              "    <button class=\"colab-df-convert\" onclick=\"convertToInteractive('df-6e83c42a-6f51-4ae9-b805-5ded6bf7c096')\"\n",
              "            title=\"Convert this dataframe to an interactive table.\"\n",
              "            style=\"display:none;\">\n",
              "\n",
              "  <svg xmlns=\"http://www.w3.org/2000/svg\" height=\"24px\" viewBox=\"0 -960 960 960\">\n",
              "    <path d=\"M120-120v-720h720v720H120Zm60-500h600v-160H180v160Zm220 220h160v-160H400v160Zm0 220h160v-160H400v160ZM180-400h160v-160H180v160Zm440 0h160v-160H620v160ZM180-180h160v-160H180v160Zm440 0h160v-160H620v160Z\"/>\n",
              "  </svg>\n",
              "    </button>\n",
              "\n",
              "  <style>\n",
              "    .colab-df-container {\n",
              "      display:flex;\n",
              "      gap: 12px;\n",
              "    }\n",
              "\n",
              "    .colab-df-convert {\n",
              "      background-color: #E8F0FE;\n",
              "      border: none;\n",
              "      border-radius: 50%;\n",
              "      cursor: pointer;\n",
              "      display: none;\n",
              "      fill: #1967D2;\n",
              "      height: 32px;\n",
              "      padding: 0 0 0 0;\n",
              "      width: 32px;\n",
              "    }\n",
              "\n",
              "    .colab-df-convert:hover {\n",
              "      background-color: #E2EBFA;\n",
              "      box-shadow: 0px 1px 2px rgba(60, 64, 67, 0.3), 0px 1px 3px 1px rgba(60, 64, 67, 0.15);\n",
              "      fill: #174EA6;\n",
              "    }\n",
              "\n",
              "    .colab-df-buttons div {\n",
              "      margin-bottom: 4px;\n",
              "    }\n",
              "\n",
              "    [theme=dark] .colab-df-convert {\n",
              "      background-color: #3B4455;\n",
              "      fill: #D2E3FC;\n",
              "    }\n",
              "\n",
              "    [theme=dark] .colab-df-convert:hover {\n",
              "      background-color: #434B5C;\n",
              "      box-shadow: 0px 1px 3px 1px rgba(0, 0, 0, 0.15);\n",
              "      filter: drop-shadow(0px 1px 2px rgba(0, 0, 0, 0.3));\n",
              "      fill: #FFFFFF;\n",
              "    }\n",
              "  </style>\n",
              "\n",
              "    <script>\n",
              "      const buttonEl =\n",
              "        document.querySelector('#df-6e83c42a-6f51-4ae9-b805-5ded6bf7c096 button.colab-df-convert');\n",
              "      buttonEl.style.display =\n",
              "        google.colab.kernel.accessAllowed ? 'block' : 'none';\n",
              "\n",
              "      async function convertToInteractive(key) {\n",
              "        const element = document.querySelector('#df-6e83c42a-6f51-4ae9-b805-5ded6bf7c096');\n",
              "        const dataTable =\n",
              "          await google.colab.kernel.invokeFunction('convertToInteractive',\n",
              "                                                    [key], {});\n",
              "        if (!dataTable) return;\n",
              "\n",
              "        const docLinkHtml = 'Like what you see? Visit the ' +\n",
              "          '<a target=\"_blank\" href=https://colab.research.google.com/notebooks/data_table.ipynb>data table notebook</a>'\n",
              "          + ' to learn more about interactive tables.';\n",
              "        element.innerHTML = '';\n",
              "        dataTable['output_type'] = 'display_data';\n",
              "        await google.colab.output.renderOutput(dataTable, element);\n",
              "        const docLink = document.createElement('div');\n",
              "        docLink.innerHTML = docLinkHtml;\n",
              "        element.appendChild(docLink);\n",
              "      }\n",
              "    </script>\n",
              "  </div>\n",
              "\n",
              "\n",
              "<div id=\"df-7e80a73b-fb1b-479c-ae4d-35a092bb5bc4\">\n",
              "  <button class=\"colab-df-quickchart\" onclick=\"quickchart('df-7e80a73b-fb1b-479c-ae4d-35a092bb5bc4')\"\n",
              "            title=\"Suggest charts\"\n",
              "            style=\"display:none;\">\n",
              "\n",
              "<svg xmlns=\"http://www.w3.org/2000/svg\" height=\"24px\"viewBox=\"0 0 24 24\"\n",
              "     width=\"24px\">\n",
              "    <g>\n",
              "        <path d=\"M19 3H5c-1.1 0-2 .9-2 2v14c0 1.1.9 2 2 2h14c1.1 0 2-.9 2-2V5c0-1.1-.9-2-2-2zM9 17H7v-7h2v7zm4 0h-2V7h2v10zm4 0h-2v-4h2v4z\"/>\n",
              "    </g>\n",
              "</svg>\n",
              "  </button>\n",
              "\n",
              "<style>\n",
              "  .colab-df-quickchart {\n",
              "      --bg-color: #E8F0FE;\n",
              "      --fill-color: #1967D2;\n",
              "      --hover-bg-color: #E2EBFA;\n",
              "      --hover-fill-color: #174EA6;\n",
              "      --disabled-fill-color: #AAA;\n",
              "      --disabled-bg-color: #DDD;\n",
              "  }\n",
              "\n",
              "  [theme=dark] .colab-df-quickchart {\n",
              "      --bg-color: #3B4455;\n",
              "      --fill-color: #D2E3FC;\n",
              "      --hover-bg-color: #434B5C;\n",
              "      --hover-fill-color: #FFFFFF;\n",
              "      --disabled-bg-color: #3B4455;\n",
              "      --disabled-fill-color: #666;\n",
              "  }\n",
              "\n",
              "  .colab-df-quickchart {\n",
              "    background-color: var(--bg-color);\n",
              "    border: none;\n",
              "    border-radius: 50%;\n",
              "    cursor: pointer;\n",
              "    display: none;\n",
              "    fill: var(--fill-color);\n",
              "    height: 32px;\n",
              "    padding: 0;\n",
              "    width: 32px;\n",
              "  }\n",
              "\n",
              "  .colab-df-quickchart:hover {\n",
              "    background-color: var(--hover-bg-color);\n",
              "    box-shadow: 0 1px 2px rgba(60, 64, 67, 0.3), 0 1px 3px 1px rgba(60, 64, 67, 0.15);\n",
              "    fill: var(--button-hover-fill-color);\n",
              "  }\n",
              "\n",
              "  .colab-df-quickchart-complete:disabled,\n",
              "  .colab-df-quickchart-complete:disabled:hover {\n",
              "    background-color: var(--disabled-bg-color);\n",
              "    fill: var(--disabled-fill-color);\n",
              "    box-shadow: none;\n",
              "  }\n",
              "\n",
              "  .colab-df-spinner {\n",
              "    border: 2px solid var(--fill-color);\n",
              "    border-color: transparent;\n",
              "    border-bottom-color: var(--fill-color);\n",
              "    animation:\n",
              "      spin 1s steps(1) infinite;\n",
              "  }\n",
              "\n",
              "  @keyframes spin {\n",
              "    0% {\n",
              "      border-color: transparent;\n",
              "      border-bottom-color: var(--fill-color);\n",
              "      border-left-color: var(--fill-color);\n",
              "    }\n",
              "    20% {\n",
              "      border-color: transparent;\n",
              "      border-left-color: var(--fill-color);\n",
              "      border-top-color: var(--fill-color);\n",
              "    }\n",
              "    30% {\n",
              "      border-color: transparent;\n",
              "      border-left-color: var(--fill-color);\n",
              "      border-top-color: var(--fill-color);\n",
              "      border-right-color: var(--fill-color);\n",
              "    }\n",
              "    40% {\n",
              "      border-color: transparent;\n",
              "      border-right-color: var(--fill-color);\n",
              "      border-top-color: var(--fill-color);\n",
              "    }\n",
              "    60% {\n",
              "      border-color: transparent;\n",
              "      border-right-color: var(--fill-color);\n",
              "    }\n",
              "    80% {\n",
              "      border-color: transparent;\n",
              "      border-right-color: var(--fill-color);\n",
              "      border-bottom-color: var(--fill-color);\n",
              "    }\n",
              "    90% {\n",
              "      border-color: transparent;\n",
              "      border-bottom-color: var(--fill-color);\n",
              "    }\n",
              "  }\n",
              "</style>\n",
              "\n",
              "  <script>\n",
              "    async function quickchart(key) {\n",
              "      const quickchartButtonEl =\n",
              "        document.querySelector('#' + key + ' button');\n",
              "      quickchartButtonEl.disabled = true;  // To prevent multiple clicks.\n",
              "      quickchartButtonEl.classList.add('colab-df-spinner');\n",
              "      try {\n",
              "        const charts = await google.colab.kernel.invokeFunction(\n",
              "            'suggestCharts', [key], {});\n",
              "      } catch (error) {\n",
              "        console.error('Error during call to suggestCharts:', error);\n",
              "      }\n",
              "      quickchartButtonEl.classList.remove('colab-df-spinner');\n",
              "      quickchartButtonEl.classList.add('colab-df-quickchart-complete');\n",
              "    }\n",
              "    (() => {\n",
              "      let quickchartButtonEl =\n",
              "        document.querySelector('#df-7e80a73b-fb1b-479c-ae4d-35a092bb5bc4 button');\n",
              "      quickchartButtonEl.style.display =\n",
              "        google.colab.kernel.accessAllowed ? 'block' : 'none';\n",
              "    })();\n",
              "  </script>\n",
              "</div>\n",
              "    </div>\n",
              "  </div>\n"
            ]
          },
          "metadata": {},
          "execution_count": 12
        }
      ]
    },
    {
      "cell_type": "code",
      "metadata": {
        "id": "PEj9tUZRmR7b"
      },
      "source": [],
      "execution_count": null,
      "outputs": []
    },
    {
      "cell_type": "markdown",
      "metadata": {
        "id": "wtRHv1SGnf90"
      },
      "source": [
        "##Benchmark 2\n",
        "\n",
        "After finiding the best max_iterations and best alpha,\n",
        "1.   Use them to do a second benchmark to find the number of nodes in hidden layer which make the performance optimal\n",
        "2.   You can plot a curve of accuracy which is function of number of nodes ==> *acc = f(Nodes_Num)*\n",
        "3.   Please Comment your results.\n"
      ]
    },
    {
      "cell_type": "code",
      "metadata": {
        "colab": {
          "base_uri": "https://localhost:8080/"
        },
        "id": "jF6aF4BTpFGg",
        "outputId": "f6750169-1baf-481d-f632-59474871fbd8"
      },
      "source": [
        "\n",
        "Nodes_Num = [10,20,50,100,400,1000]\n",
        "acc_tr = []\n",
        "acc_ts = []\n",
        "timelog = []\n",
        "for nn in Nodes_Num:\n",
        "    t = time()\n",
        "    mlp = MLPClassifier(alpha=0.0010, max_iter=100, hidden_layer_sizes=(nn,))\n",
        "    print('nodes number = ',nn)\n",
        "    mlp.fit(X_train_, Y_train)\n",
        "    endt = time() - t\n",
        "\n",
        "    a_tr = accuracy_score(Y_train, mlp.predict(X_train_)) # Train Accuracy\n",
        "    a_ts = accuracy_score(Y_test, mlp.predict(X_test_)) # Test Accuracy\n",
        "\n",
        "    acc_tr.append(a_tr)\n",
        "    acc_ts.append(a_ts)\n",
        "    timelog.append(endt)\n"
      ],
      "execution_count": null,
      "outputs": [
        {
          "output_type": "stream",
          "name": "stdout",
          "text": [
            "nodes number =  10\n",
            "nodes number =  20\n",
            "nodes number =  50\n",
            "nodes number =  100\n",
            "nodes number =  400\n",
            "nodes number =  1000\n"
          ]
        }
      ]
    },
    {
      "cell_type": "code",
      "metadata": {
        "colab": {
          "base_uri": "https://localhost:8080/",
          "height": 486
        },
        "id": "3REcOIgtrD5h",
        "outputId": "a77fa86a-8c08-44e4-e648-642ed9e1afd8"
      },
      "source": [
        "#define your range of x axis\n",
        "# stuff to plot curve of accuracy values\n",
        "plt.xlabel(\"# of Hidden Layer Nodes\")\n",
        "plt.ylabel(\"Accuracy\")\n",
        "plt.legend(loc ='lower right')\n",
        "plt.title('Accuracy versus Nodes number of Hidden Layer', fontsize=10)\n",
        "plt.show()"
      ],
      "execution_count": null,
      "outputs": [
        {
          "output_type": "stream",
          "name": "stderr",
          "text": [
            "WARNING:matplotlib.legend:No artists with labels found to put in legend.  Note that artists whose label start with an underscore are ignored when legend() is called with no argument.\n"
          ]
        },
        {
          "output_type": "display_data",
          "data": {
            "text/plain": [
              "<Figure size 640x480 with 1 Axes>"
            ],
            "image/png": "[encoded data removed]"
          },
          "metadata": {}
        }
      ]
    },
    {
      "cell_type": "code",
      "metadata": {
        "id": "ZrFu5fnl4g10"
      },
      "source": [],
      "execution_count": null,
      "outputs": []
    },
    {
      "cell_type": "code",
      "metadata": {
        "colab": {
          "base_uri": "https://localhost:8080/",
          "height": 330
        },
        "outputId": "0c029804-f972-4fe0-d30f-93bd45ef0696",
        "id": "gcG0WcHvV69v"
      },
      "source": [
        "\n",
        "#define your range of x axis\n",
        "N = len(Nodes_Num)\n",
        "\n",
        "l2 = np.arange(N)\n",
        "# stuff to plot curve of accuracy values\n",
        "\n",
        "plt.subplots(figsize=(8, 3))\n",
        "plt.plot(?,?, label=\"Train Acc\")\n",
        "plt.plot(?,?, label=\"Test Acc\")\n",
        "plt.xticks(l2,Nodes_Num)\n",
        "plt.grid(True)\n",
        "plt.xlabel(\"# of Hidden Layer Nodes\")\n",
        "plt.ylabel(\"Accuracy\")\n",
        "plt.legend(loc ='lower right')\n",
        "plt.title('Accuracy versus Nodes number of Hidden Layer', fontsize=10)\n",
        "plt.show()"
      ],
      "execution_count": null,
      "outputs": [
        {
          "output_type": "display_data",
          "data": {
            "image/png": "[encoded data removed]",
            "text/plain": [
              "<Figure size 800x300 with 1 Axes>"
            ]
          },
          "metadata": {}
        }
      ]
    }
  ]
}